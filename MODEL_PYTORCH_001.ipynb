{
 "cells": [
  {
   "cell_type": "code",
   "execution_count": 1,
   "metadata": {
    "collapsed": true
   },
   "outputs": [],
   "source": [
    "import torch\n",
    "import matplotlib.pyplot as plt\n",
    "import numpy as np\n",
    "from torch import nn"
   ]
  },
  {
   "cell_type": "code",
   "execution_count": 2,
   "outputs": [
    {
     "name": "stdout",
     "output_type": "stream",
     "text": [
      "using device : cpu\n"
     ]
    }
   ],
   "source": [
    "device = \"cuda\" if torch.cuda.is_available() else \"cpu\"\n",
    "\n",
    "print(f\"using device : {device}\")"
   ],
   "metadata": {
    "collapsed": false
   }
  },
  {
   "cell_type": "code",
   "execution_count": 3,
   "outputs": [],
   "source": [
    "# create some data using linear regression formula\n",
    "weight = 0.7\n",
    "bias = 0.3"
   ],
   "metadata": {
    "collapsed": false
   }
  },
  {
   "cell_type": "code",
   "execution_count": 4,
   "outputs": [],
   "source": [
    "start = 0\n",
    "end = 1\n",
    "step = 0.02\n",
    "X = torch.arange(start,end, step).unsqueeze(dim=1)\n",
    "\n",
    "y =weight * X + bias"
   ],
   "metadata": {
    "collapsed": false
   }
  },
  {
   "cell_type": "code",
   "execution_count": 5,
   "outputs": [],
   "source": [
    "# split data\n",
    "train_split = int(0.8* len(X))\n",
    "X_train , y_train = X[:train_split], y[:train_split]\n",
    "X_test , y_test = X[train_split:], y[train_split:]"
   ],
   "metadata": {
    "collapsed": false
   }
  },
  {
   "cell_type": "code",
   "execution_count": 6,
   "outputs": [],
   "source": [
    "def plot_predictions(train_data = X_train, train_labels =y_train,\n",
    "                     test_data = X_test , test_labels = y_test,\n",
    "                     predictions = None):\n",
    "    \"\"\"\n",
    "    plot training data, test data and compares predictions.\n",
    "    \"\"\"\n",
    "    plt.figure(figsize=(10,7))\n",
    "\n",
    "    #plot training data in blue\n",
    "    plt.scatter(train_data, train_labels, c=\"b\", s = 4, label = \"Training data\")\n",
    "    plt.scatter(test_data, test_labels, c=\"g\", s = 4, label = \"Test data\")\n",
    "\n",
    "    if predictions is not None:\n",
    "\n",
    "     plt.scatter(test_data, predictions, c = \"r\", s = 4, label = \"predictions\")\n",
    "\n",
    "    # show legend\n",
    "\n",
    "    plt.legend(prop={\"size\": 14});"
   ],
   "metadata": {
    "collapsed": false
   }
  },
  {
   "cell_type": "code",
   "execution_count": 7,
   "outputs": [
    {
     "data": {
      "text/plain": "(LinerRegressionModuleV2(\n   (linear_layer): Linear(in_features=1, out_features=1, bias=True)\n ),\n OrderedDict([('linear_layer.weight', tensor([[0.7645]])),\n              ('linear_layer.bias', tensor([0.8300]))]))"
     },
     "execution_count": 7,
     "metadata": {},
     "output_type": "execute_result"
    }
   ],
   "source": [
    "class LinerRegressionModuleV2(nn.Module):\n",
    "    def __init__(self):\n",
    "     super().__init__()\n",
    "     #use nn.Linear() for creating the model parameters/also called : Linear transform, probing layer , fully connected layer\n",
    "     self.linear_layer = nn.Linear(in_features=1, out_features=1)\n",
    "    def forward(self,x: torch.Tensor): # --> torch.Tensor\n",
    "        return self.linear_layer(x)\n",
    "\n",
    "\n",
    "torch.manual_seed(42)\n",
    "model_1 = LinerRegressionModuleV2()\n",
    "model_1, model_1.state_dict()"
   ],
   "metadata": {
    "collapsed": false
   }
  },
  {
   "cell_type": "code",
   "execution_count": 8,
   "outputs": [
    {
     "data": {
      "text/plain": "device(type='cpu')"
     },
     "execution_count": 8,
     "metadata": {},
     "output_type": "execute_result"
    }
   ],
   "source": [
    "next(model_1.parameters()).device"
   ],
   "metadata": {
    "collapsed": false
   }
  },
  {
   "cell_type": "code",
   "execution_count": 9,
   "outputs": [
    {
     "data": {
      "text/plain": "device(type='cpu')"
     },
     "execution_count": 9,
     "metadata": {},
     "output_type": "execute_result"
    }
   ],
   "source": [
    "model_1.to(device)\n",
    "next(model_1.parameters()).device"
   ],
   "metadata": {
    "collapsed": false
   }
  },
  {
   "cell_type": "markdown",
   "source": [
    "### Training\n",
    "\n",
    "for training we need:\n",
    "*Loss function\n",
    "*Optimizer\n",
    "*Training Loop\n",
    "*Testing Loop\n"
   ],
   "metadata": {
    "collapsed": false
   }
  },
  {
   "cell_type": "code",
   "execution_count": 12,
   "outputs": [],
   "source": [
    "#Setup loss function\n",
    "loss_fn = nn.L1Loss()\n",
    "# setup OPtimizer\n",
    "optimizer = torch.optim.SGD(params=model_1.parameters(),\n",
    "                            lr=0.01)"
   ],
   "metadata": {
    "collapsed": false
   }
  },
  {
   "cell_type": "code",
   "execution_count": 14,
   "outputs": [
    {
     "name": "stdout",
     "output_type": "stream",
     "text": [
      "Epoch : 0 | Loss : 0.0012645035749301314  | Test_loss : 0.013801807537674904 \n",
      "Epoch : 10 | Loss : 0.0012645035749301314  | Test_loss : 0.013801807537674904 \n",
      "Epoch : 20 | Loss : 0.0012645035749301314  | Test_loss : 0.013801807537674904 \n",
      "Epoch : 30 | Loss : 0.0012645035749301314  | Test_loss : 0.013801807537674904 \n",
      "Epoch : 40 | Loss : 0.0012645035749301314  | Test_loss : 0.013801807537674904 \n",
      "Epoch : 50 | Loss : 0.0012645035749301314  | Test_loss : 0.013801807537674904 \n",
      "Epoch : 60 | Loss : 0.0012645035749301314  | Test_loss : 0.013801807537674904 \n",
      "Epoch : 70 | Loss : 0.0012645035749301314  | Test_loss : 0.013801807537674904 \n",
      "Epoch : 80 | Loss : 0.0012645035749301314  | Test_loss : 0.013801807537674904 \n",
      "Epoch : 90 | Loss : 0.0012645035749301314  | Test_loss : 0.013801807537674904 \n",
      "Epoch : 100 | Loss : 0.0012645035749301314  | Test_loss : 0.013801807537674904 \n",
      "Epoch : 110 | Loss : 0.0012645035749301314  | Test_loss : 0.013801807537674904 \n",
      "Epoch : 120 | Loss : 0.0012645035749301314  | Test_loss : 0.013801807537674904 \n",
      "Epoch : 130 | Loss : 0.0012645035749301314  | Test_loss : 0.013801807537674904 \n",
      "Epoch : 140 | Loss : 0.0012645035749301314  | Test_loss : 0.013801807537674904 \n",
      "Epoch : 150 | Loss : 0.0012645035749301314  | Test_loss : 0.013801807537674904 \n",
      "Epoch : 160 | Loss : 0.0012645035749301314  | Test_loss : 0.013801807537674904 \n",
      "Epoch : 170 | Loss : 0.0012645035749301314  | Test_loss : 0.013801807537674904 \n",
      "Epoch : 180 | Loss : 0.0012645035749301314  | Test_loss : 0.013801807537674904 \n",
      "Epoch : 190 | Loss : 0.0012645035749301314  | Test_loss : 0.013801807537674904 \n"
     ]
    }
   ],
   "source": [
    "# let's write a training loop\n",
    "torch.manual_seed(42)\n",
    "\n",
    "epochs = 200\n",
    "\n",
    "# put data on the target device\n",
    "X_train = X_train.to(device)\n",
    "y_train = y_train.to(device)\n",
    "X_test = X_test.to(device)\n",
    "y_test = y_test.to(device)\n",
    "\n",
    "for epoch in range(epochs):\n",
    "\n",
    "    model_1.train()\n",
    "\n",
    "    #1.forward pass\n",
    "    y_pred = model_1(X_train)\n",
    "\n",
    "    #2.calculate the loss\n",
    "    loss = loss_fn(y_pred,y_train)\n",
    "\n",
    "    #3.optimizer zero grad\n",
    "    optimizer.zero_grad()\n",
    "\n",
    "    #4.perform propagation\n",
    "    loss.backward()\n",
    "\n",
    "    #5. optimizer step\n",
    "    optimizer.step()\n",
    "\n",
    "    ### testing\n",
    "\n",
    "    model_1.eval()\n",
    "\n",
    "    with torch.inference_mode():\n",
    "        test_pred = model_1(X_test)\n",
    "\n",
    "        test_loss = loss_fn(test_pred,y_test)\n",
    "\n",
    "\n",
    "    if epoch % 10 == 0:\n",
    "        print(f\"Epoch : {epoch} | Loss : {loss}  | Test_loss : {test_loss} \")"
   ],
   "metadata": {
    "collapsed": false
   }
  },
  {
   "cell_type": "code",
   "execution_count": 15,
   "outputs": [
    {
     "data": {
      "text/plain": "OrderedDict([('linear_layer.weight', tensor([[0.6968]])),\n             ('linear_layer.bias', tensor([0.3025]))])"
     },
     "execution_count": 15,
     "metadata": {},
     "output_type": "execute_result"
    }
   ],
   "source": [
    "model_1.state_dict()"
   ],
   "metadata": {
    "collapsed": false
   }
  },
  {
   "cell_type": "code",
   "execution_count": 16,
   "outputs": [
    {
     "data": {
      "text/plain": "(0.7, 0.3)"
     },
     "execution_count": 16,
     "metadata": {},
     "output_type": "execute_result"
    }
   ],
   "source": [
    "weight,bias"
   ],
   "metadata": {
    "collapsed": false
   }
  },
  {
   "cell_type": "code",
   "execution_count": 19,
   "outputs": [
    {
     "data": {
      "text/plain": "<Figure size 720x504 with 1 Axes>",
      "image/png": "[encoded data removed]"
     },
     "metadata": {
      "needs_background": "light"
     },
     "output_type": "display_data"
    }
   ],
   "source": [
    "#plot_predictions(predictions=test_pred.detach().numpy())"
   ],
   "metadata": {
    "collapsed": false
   }
  },
  {
   "cell_type": "code",
   "execution_count": 20,
   "outputs": [
    {
     "data": {
      "text/plain": "OrderedDict([('linear_layer.weight', tensor([[0.6968]])),\n             ('linear_layer.bias', tensor([0.3025]))])"
     },
     "execution_count": 20,
     "metadata": {},
     "output_type": "execute_result"
    }
   ],
   "source": [
    "model_1.state_dict()"
   ],
   "metadata": {
    "collapsed": false
   }
  },
  {
   "cell_type": "markdown",
   "source": [
    "### Making and evaluating predictions"
   ],
   "metadata": {
    "collapsed": false
   }
  },
  {
   "cell_type": "code",
   "execution_count": 21,
   "outputs": [
    {
     "data": {
      "text/plain": "tensor([[0.8600],\n        [0.8739],\n        [0.8878],\n        [0.9018],\n        [0.9157],\n        [0.9296],\n        [0.9436],\n        [0.9575],\n        [0.9714],\n        [0.9854]])"
     },
     "execution_count": 21,
     "metadata": {},
     "output_type": "execute_result"
    }
   ],
   "source": [
    "model_1.eval()\n",
    "\n",
    "with torch.inference_mode():\n",
    "    y_preds = model_1(X_test)\n",
    "\n",
    "y_preds"
   ],
   "metadata": {
    "collapsed": false
   }
  },
  {
   "cell_type": "code",
   "execution_count": 22,
   "outputs": [
    {
     "data": {
      "text/plain": "<Figure size 720x504 with 1 Axes>",
      "image/png": "[encoded data removed]"
     },
     "metadata": {
      "needs_background": "light"
     },
     "output_type": "display_data"
    }
   ],
   "source": [
    "plot_predictions(predictions=y_preds.detach().numpy())"
   ],
   "metadata": {
    "collapsed": false
   }
  },
  {
   "cell_type": "markdown",
   "source": [
    "### Saving and loading a model\n"
   ],
   "metadata": {
    "collapsed": false
   }
  },
  {
   "cell_type": "code",
   "execution_count": 23,
   "outputs": [
    {
     "name": "stdout",
     "output_type": "stream",
     "text": [
      "saving model to : models_trail\\001.model_pytorch_trail\n"
     ]
    }
   ],
   "source": [
    "from pathlib import Path\n",
    "\n",
    "\n",
    "# 1. create models directory\n",
    "MODEL_PATH = Path(\"models_trail\")\n",
    "MODEL_PATH.mkdir(parents=True,exist_ok=True)\n",
    "\n",
    "#2. create model save path\n",
    "\n",
    "MODEL_NAME = \"001.model_pytorch_trail\"\n",
    "MODEL_SAVE_PATH = MODEL_PATH / MODEL_NAME\n",
    "\n",
    "#3.save the model state dict\n",
    "\n",
    "print(f\"saving model to : {MODEL_SAVE_PATH}\")\n",
    "torch.save(obj=model_1.state_dict(),f=MODEL_SAVE_PATH)"
   ],
   "metadata": {
    "collapsed": false
   }
  },
  {
   "cell_type": "code",
   "execution_count": null,
   "outputs": [],
   "source": [],
   "metadata": {
    "collapsed": false
   }
  }
 ],
 "metadata": {
  "kernelspec": {
   "display_name": "Python 3",
   "language": "python",
   "name": "python3"
  },
  "language_info": {
   "codemirror_mode": {
    "name": "ipython",
    "version": 2
   },
   "file_extension": ".py",
   "mimetype": "text/x-python",
   "name": "python",
   "nbconvert_exporter": "python",
   "pygments_lexer": "ipython2",
   "version": "2.7.6"
  }
 },
 "nbformat": 4,
 "nbformat_minor": 0
}
